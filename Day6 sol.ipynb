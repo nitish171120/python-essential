{
 "cells": [
  {
   "cell_type": "markdown",
   "metadata": {},
   "source": [
    "# Email Sending Project"
   ]
  },
  {
   "cell_type": "code",
   "execution_count": 1,
   "metadata": {},
   "outputs": [
    {
     "name": "stdout",
     "output_type": "stream",
     "text": [
      "Collecting emails\n",
      "  Downloading emails-0.6-py2.py3-none-any.whl (56 kB)\n",
      "Requirement already satisfied: requests in c:\\programdata\\anaconda3\\lib\\site-packages (from emails) (2.24.0)\n",
      "Requirement already satisfied: python-dateutil in c:\\programdata\\anaconda3\\lib\\site-packages (from emails) (2.8.1)\n",
      "Collecting cssutils\n",
      "  Downloading cssutils-1.0.2-py3-none-any.whl (406 kB)\n",
      "Requirement already satisfied: chardet in c:\\programdata\\anaconda3\\lib\\site-packages (from emails) (3.0.4)\n",
      "Requirement already satisfied: lxml in c:\\programdata\\anaconda3\\lib\\site-packages (from emails) (4.5.2)\n",
      "Collecting premailer\n",
      "  Downloading premailer-3.7.0-py2.py3-none-any.whl (18 kB)\n",
      "Requirement already satisfied: certifi>=2017.4.17 in c:\\programdata\\anaconda3\\lib\\site-packages (from requests->emails) (2020.6.20)\n",
      "Requirement already satisfied: urllib3!=1.25.0,!=1.25.1,<1.26,>=1.21.1 in c:\\programdata\\anaconda3\\lib\\site-packages (from requests->emails) (1.25.9)\n",
      "Requirement already satisfied: idna<3,>=2.5 in c:\\programdata\\anaconda3\\lib\\site-packages (from requests->emails) (2.10)\n",
      "Requirement already satisfied: six>=1.5 in c:\\programdata\\anaconda3\\lib\\site-packages (from python-dateutil->emails) (1.15.0)\n",
      "Collecting cachetools\n",
      "  Downloading cachetools-4.2.0-py3-none-any.whl (12 kB)\n",
      "Collecting cssselect\n",
      "  Downloading cssselect-1.1.0-py2.py3-none-any.whl (16 kB)\n",
      "Installing collected packages: cssutils, cachetools, cssselect, premailer, emails\n",
      "Successfully installed cachetools-4.2.0 cssselect-1.1.0 cssutils-1.0.2 emails-0.6 premailer-3.7.0\n"
     ]
    }
   ],
   "source": [
    "!pip install emails"
   ]
  },
  {
   "cell_type": "code",
   "execution_count": 2,
   "metadata": {},
   "outputs": [],
   "source": [
    "import emails"
   ]
  },
  {
   "cell_type": "code",
   "execution_count": 3,
   "metadata": {},
   "outputs": [],
   "source": [
    "html_text = '''<p><span style=\"font-family: Courier New, courier;\"><span style=\"background-color: rgb(247, 218, 100);\">HEY Rowdy,</span>&nbsp;</span></p>\n",
    "<p><span style=\"font-family: Courier New, courier;\"><br></span></p>\n",
    "<p><span style=\"font-family: Courier New, courier;\">How are you this is SAIKIRAN FROM LEtsUpgrade,&nbsp;</span></p>\n",
    "<p><span style=\"font-family: Courier New, courier;\">Cheif Rowdy at LU !!</span></p>\n",
    "<p><span style=\"font-family: Courier New, courier;\">Love teaching you all, hope you like this project&nbsp;</span></p>\n",
    "<p><span style=\"font-family: Courier New, courier;\"><br></span></p>\n",
    "<p><span style=\"font-family: Courier New, courier;\">Regards,&nbsp;</span></p>\n",
    "<p><strong><span style=\"font-family: Courier New, courier;\">Cheif Rowdy,</span></strong></p>\n",
    "<p><span style=\"font-family: Courier New, courier;\"><strong>Saikiran Sondarkar</strong></span></p>'''\n",
    "\n",
    "\n",
    "message = emails.html(html=html_text,\n",
    "                          subject=\"Your EMAIL FROM PYTHON SCRIPT\",\n",
    "                          mail_from=('Rowdy LetsUpgrade', 'sai@xyz.com'))"
   ]
  },
  {
   "cell_type": "code",
   "execution_count": null,
   "metadata": {},
   "outputs": [],
   "source": [
    "mail_via_python = message.send(to='nabipi7212@econeom.com', \n",
    "                               smtp={'host': 'smtp.gmail.com', \n",
    "                                     'timeout': 5,\n",
    "                                    'port':587,\n",
    "                                    'user':'YOUREMAIL@REQUIRED>COM',\n",
    "                                    'password':'YourPassWordREquired',\n",
    "                                    'tls':True})\n"
   ]
  },
  {
   "cell_type": "code",
   "execution_count": null,
   "metadata": {},
   "outputs": [],
   "source": [
    "mail_via_python"
   ]
  },
  {
   "cell_type": "code",
   "execution_count": null,
   "metadata": {},
   "outputs": [],
   "source": [
    "def sendMail(email, name):\n",
    "    \n",
    "    html_text = '''<p><span style=\"font-family: Courier New, courier;\"><span style=\"background-color: rgb(247, 218, 100);\">HEY Rowdy,'''+ name+'''</span>&nbsp;</span></p>\n",
    "                <p><span style=\"font-family: Courier New, courier;\"><br></span></p>\n",
    "                <p><span style=\"font-family: Courier New, courier;\">How are you this is SAIKIRAN FROM LEtsUpgrade,&nbsp;</span></p>\n",
    "                <p><span style=\"font-family: Courier New, courier;\">Cheif Rowdy at LU !!</span></p>\n",
    "                <p><span style=\"font-family: Courier New, courier;\">Love teaching you all, hope you like this project&nbsp;</span></p>\n",
    "                <p><span style=\"font-family: Courier New, courier;\"><br></span></p>\n",
    "                <p><span style=\"font-family: Courier New, courier;\">Regards,&nbsp;</span></p>\n",
    "                <p><strong><span style=\"font-family: Courier New, courier;\">Cheif Rowdy,</span></strong></p>\n",
    "                <p><span style=\"font-family: Courier New, courier;\"><strong>Saikiran Sondarkar</strong></span></p>'''\n",
    "\n",
    "    subject = \"Hey Rowdy \"+ name + \", you have EMAIL FROM LetsUpgrade\"\n",
    "    message = emails.html(html=html_text,\n",
    "                          subject=subject,\n",
    "                          mail_from=('Rowdy LetsUpgrade', 'sai@xyz.com'))\n",
    "\n",
    "    \n",
    "    mail_via_python = message.send(to=email, \n",
    "                               smtp={'host': 'smtp.gmail.com', \n",
    "                                     'timeout': 5,\n",
    "                                    'port':587,\n",
    "                                    'user':'YOUREMAIL@REQUIRED>COM',\n",
    "                                    'password':'YourPassWordREquired',\n",
    "                                    'tls':True})\n",
    "    return mail_via_python.status_code"
   ]
  },
  {
   "cell_type": "code",
   "execution_count": null,
   "metadata": {},
   "outputs": [],
   "source": [
    "sendMail(\"nabipi7212@econeom.com\",\"Sai\")"
   ]
  }
 ],
 "metadata": {
  "kernelspec": {
   "display_name": "Python 3",
   "language": "python",
   "name": "python3"
  },
  "language_info": {
   "codemirror_mode": {
    "name": "ipython",
    "version": 3
   },
   "file_extension": ".py",
   "mimetype": "text/x-python",
   "name": "python",
   "nbconvert_exporter": "python",
   "pygments_lexer": "ipython3",
   "version": "3.8.3"
  }
 },
 "nbformat": 4,
 "nbformat_minor": 4
}
